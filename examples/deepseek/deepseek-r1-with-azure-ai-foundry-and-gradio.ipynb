{
 "cells": [
  {
   "cell_type": "markdown",
   "metadata": {},
   "source": [
    "# Building a Streaming Chatbot with DeepSeek R1 and Gradio\n",
    "\n",
    "## Introduction\n",
    "\n",
    "**DeepSeek R1** has gained widespread attention for its advanced reasoning capabilities, excelling in language processing, scientific problem-solving, and coding. With 671B total parameters, 37B active parameters, and a 128K context length, it pushes the boundaries of AI-driven reasoning ([Explore DeepSeek R1 on Azure AI Foundry](https://ai.azure.com/explore/models/DeepSeek-R1/version/1/registry/azureml-deepseek)). Benchmarking and evaluation results highlight its performance against other models, showcasing its effectiveness in reasoning tasks ([Evaluation Results](https://github.com/deepseek-ai/DeepSeek-R1/tree/main?tab=readme-ov-file#4-evaluation-results)). Building on prior models, DeepSeek R1 integrates Chain-of-Thought (CoT) reasoning, reinforcement learning (RL), and fine-tuning on curated datasets to achieve state-of-the-art performance. This tutorial will walk you through how to deploy DeepSeek R1 from [Azure AI Foundry's model catalog](https://ai.azure.com/explore/models/) and integrate it with [Gradio](https://www.gradio.app/) to build a real-time streaming chatbot specifically for thinking LLMs like **DeepSeek R1**."
   ]
  },
  {
   "cell_type": "markdown",
   "metadata": {},
   "source": [
    "### DeepSeek R1 on Azure AI Foundry\n",
    "\n",
    "On **January 29, 2025**, Microsoft announced that **DeepSeek R1** is now available on **Azure AI Foundry** and **GitHub**, making it part of a growing portfolio of over **1,800 AI models** available for enterprise use. With this integration, businesses can deploy DeepSeek R1 using **serverless APIs**, ensuring seamless scalability, security, and compliance with Microsoft’s responsible AI principles. ([Azure AI Foundry announcement](https://azure.microsoft.com/en-us/blog/deepseek-r1-on-azure-ai-foundry))"
   ]
  },
  {
   "cell_type": "markdown",
   "metadata": {},
   "source": [
    "### Benefits of Using DeepSeek R1 on Azure AI Foundry\n",
    "\n",
    "- **Enterprise-Ready AI:** DeepSeek R1 is available as a trusted, scalable, and secure AI model, backed by Microsoft's infrastructure.\n",
    "- **Optimized Model Evaluation:** Built-in tools allow developers to benchmark performance and compare outputs across different models.\n",
    "- **Security and Responsible AI:** DeepSeek R1 has undergone **rigorous safety evaluations**, including automated assessments, security reviews, and **Azure AI Content Safety** integration for filtering potentially harmful content.\n",
    "- **Flexible Deployment:** Developers can deploy the model via the **Azure AI Studio, Azure CLI, ARM templates**, or Python SDK.\n",
    "\n",
    "By combining **DeepSeek R1**'s robust language understanding with Gradio's interactive capabilities, you can create a powerful chatbot application that processes and responds to user inputs in real time. This tutorial will walk you through the necessary steps, from setting up the DeepSeek API client to building a responsive Gradio interface, ensuring a comprehensive understanding of the integration process."
   ]
  },
  {
   "cell_type": "markdown",
   "metadata": {},
   "source": [
    "## Prerequisites\n",
    "\n",
    "Before we begin, ensure you have the following:\n",
    "\n",
    "- **Python 3.8+** installed on your system.\n",
    "- An Azure AI Foundry model deployment with an endpoint. If you haven't deployed DeepSeek R1 as a serverless API yet, please follow the steps outlined in [Deploy models as serverless APIs](https://learn.microsoft.com/en-us/azure/ai-studio/how-to/deploy-models-serverless).\n",
    "- An **Azure AI Foundry** model deployment with an endpoint.\n",
    "- The required Python packages installed:\n",
    "  ```sh\n",
    "  pip install azure-ai-inference gradio\n",
    "  ```\n",
    "- Environment variables set for your Azure AI credentials:\n",
    "  ```sh\n",
    "  export AZURE_INFERENCE_ENDPOINT=\"https://your-endpoint-name.region.inference.ai.azure.com\"\n",
    "  export AZURE_INFERENCE_CREDENTIAL=\"your-api-key\"\n",
    "  ```"
   ]
  },
  {
   "cell_type": "markdown",
   "metadata": {},
   "source": [
    "## Step 1: Setting Up the ChatCompletionsClient"
   ]
  },
  {
   "cell_type": "code",
   "execution_count": null,
   "metadata": {},
   "outputs": [],
   "source": [
    "import os\n",
    "import gradio as gr\n",
    "from azure.ai.inference import ChatCompletionsClient\n",
    "from azure.ai.inference.models import SystemMessage, UserMessage, AssistantMessage\n",
    "from azure.core.credentials import AzureKeyCredential\n",
    "from gradio import ChatMessage\n",
    "from typing import Iterator\n",
    "\n",
    "client = ChatCompletionsClient(\n",
    "    endpoint=os.environ[\"AZURE_INFERENCE_ENDPOINT\"],\n",
    "    credential=AzureKeyCredential(os.environ[\"AZURE_INFERENCE_CREDENTIAL\"])\n",
    "    # If you're authenticating with Microsoft Entra ID, use DefaultAzureCredential() \n",
    "    # or other supported credentials instead of AzureKeyCredential.\n",
    ")"
   ]
  },
  {
   "cell_type": "markdown",
   "metadata": {},
   "source": [
    "## Step 2: Implementing a Streaming Response Function"
   ]
  },
  {
   "cell_type": "code",
   "execution_count": null,
   "metadata": {},
   "outputs": [],
   "source": [
    "def stream_response(user_message: str, messages: list) -> Iterator[list]:\n",
    "    if not messages:\n",
    "        messages = []\n",
    "    \n",
    "    # Convert Gradio chat history into Azure AI Inference messages\n",
    "    azure_messages = [SystemMessage(content=\"You are a helpful assistant.\")]\n",
    "    for msg in messages:\n",
    "        print(f\"Gradio ChatMessage: {msg}\")  # Debug print\n",
    "        if isinstance(msg, ChatMessage):\n",
    "            azure_msg = UserMessage(content=msg.content) if msg.role == \"user\" else AssistantMessage(content=msg.content)\n",
    "        elif isinstance(msg, dict) and \"role\" in msg and \"content\" in msg:\n",
    "            azure_msg = UserMessage(content=msg[\"content\"]) if msg[\"role\"] == \"user\" else AssistantMessage(content=msg[\"content\"])\n",
    "        else:\n",
    "            continue\n",
    "        azure_messages.append(azure_msg)\n",
    "    \n",
    "    # Ensure only serializable objects are sent to Azure\n",
    "    azure_messages = [msg.dict() if hasattr(msg, \"dict\") else msg for msg in azure_messages]\n",
    "    \n",
    "    response = client.complete(messages=azure_messages, stream=True)\n",
    "    \n",
    "    # Initialize buffers\n",
    "    thought_buffer = \"\"\n",
    "    response_buffer = \"\"\n",
    "    inside_thought = False\n",
    "    \n",
    "    for update in response:\n",
    "        if update.choices:\n",
    "            current_chunk = update.choices[0].delta.content\n",
    "            \n",
    "            if \"<think>\" in current_chunk:\n",
    "                inside_thought = True\n",
    "                print(\"Entering thought processing mode.\")\n",
    "                messages.append(ChatMessage(role=\"assistant\", content=\"\", metadata={\"title\": \"🧠 R1 Thinking...\", \"status\": \"pending\"}))\n",
    "                yield messages\n",
    "                continue\n",
    "            elif \"</think>\" in current_chunk:\n",
    "                inside_thought = False\n",
    "                messages[-1] = ChatMessage(\n",
    "                    role=\"assistant\",\n",
    "                    content=thought_buffer.strip(),\n",
    "                    metadata={\"title\": \"🧠 R1 Thinking...\", \"status\": \"done\"}\n",
    "                )\n",
    "                yield messages  # Yield the thought message immediately\n",
    "                thought_buffer = \"\"\n",
    "                continue\n",
    "            \n",
    "            if inside_thought:\n",
    "                thought_buffer += current_chunk\n",
    "                messages[-1] = ChatMessage(\n",
    "                    role=\"assistant\",\n",
    "                    content=thought_buffer,\n",
    "                    metadata={\"title\": \"🧠 R1 Thinking...\", \"status\": \"pending\"}\n",
    "                )\n",
    "                yield messages  # Yield the thought message as it updates\n",
    "            else:\n",
    "                response_buffer += current_chunk\n",
    "                if messages and isinstance(messages[-1], ChatMessage) and messages[-1].role == \"assistant\" and (not messages[-1].metadata or \"title\" not in messages[-1].metadata):\n",
    "                    messages[-1] = ChatMessage(role=\"assistant\", content=response_buffer)\n",
    "                else:\n",
    "                    messages.append(ChatMessage(role=\"assistant\", content=response_buffer))\n",
    "                yield messages"
   ]
  },
  {
   "cell_type": "markdown",
   "metadata": {},
   "source": [
    "## Step 3: Creating the Gradio Interface"
   ]
  },
  {
   "cell_type": "code",
   "execution_count": null,
   "metadata": {},
   "outputs": [],
   "source": [
    "with gr.Blocks(title=\"DeepSeek R1 with Azure AI Foundry\", fill_height=True, fill_width=True) as demo:\n",
    "    title = gr.Markdown(\"## DeepSeek R1 with Azure AI Foundry 🤭\")\n",
    "    chatbot = gr.Chatbot(\n",
    "        type=\"messages\",\n",
    "        label=\"DeepSeek-R1\",\n",
    "        render_markdown=True,\n",
    "        show_label=False,\n",
    "        scale=1,\n",
    "    )\n",
    "    \n",
    "    input_box = gr.Textbox(\n",
    "        lines=1,\n",
    "        submit_btn=True,\n",
    "        show_label=False,\n",
    "    )\n",
    "    \n",
    "    msg_store = gr.State(\"\")\n",
    "    input_box.submit(lambda msg: (msg, msg, \"\"), inputs=[input_box], outputs=[msg_store, input_box, input_box], queue=False)\n",
    "    input_box.submit(lambda msg, chat: (ChatMessage(role=\"user\", content=msg), chat + [ChatMessage(role=\"user\", content=msg)]), inputs=[msg_store, chatbot], outputs=[msg_store, chatbot], queue=False).then(\n",
    "        stream_response, inputs=[msg_store, chatbot], outputs=chatbot\n",
    "    )\n",
    "    \n",
    "    demo.launch()"
   ]
  },
  {
   "cell_type": "markdown",
   "metadata": {},
   "source": [
    "## Conclusion\n",
    "\n",
    "In this tutorial, we built a **streaming chatbot** using **DeepSeek R1** on **Azure AI Foundry** with **Gradio**. We covered:\n",
    "\n",
    "- Setting up the DeepSeek R1 model on Azure.\n",
    "- Creating and handling chat completion requests.\n",
    "- Implementing real-time streaming responses.\n",
    "- Deploying the chatbot using Gradio.\n",
    "\n",
    "Get started today by visiting **[DeepSeek R1 on Azure AI Foundry Model Catalog](https://ai.azure.com/explore/models/DeepSeek-R1/version/1/registry/azureml-deepseek)** and **[DeepSeek on GitHub Models](https://github.com/marketplace/models/azureml-deepseek/DeepSeek-R1)**.\n",
    "\n",
    "Happy coding! 🚀"
   ]
  }
 ],
 "metadata": {
  "kernelspec": {
   "display_name": ".venv",
   "language": "python",
   "name": "python3"
  },
  "language_info": {
   "codemirror_mode": {
    "name": "ipython",
    "version": 3
   },
   "file_extension": ".py",
   "mimetype": "text/x-python",
   "name": "python",
   "nbconvert_exporter": "python",
   "pygments_lexer": "ipython3",
   "version": "3.11.9"
  }
 },
 "nbformat": 4,
 "nbformat_minor": 2
}
